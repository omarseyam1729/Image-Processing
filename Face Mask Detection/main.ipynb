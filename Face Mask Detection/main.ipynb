{
 "cells": [
  {
   "cell_type": "markdown",
   "metadata": {},
   "source": [
    "# Training"
   ]
  },
  {
   "cell_type": "code",
   "execution_count": 1,
   "metadata": {},
   "outputs": [],
   "source": [
    "import tensorflow as tf\n",
    "import numpy as np\n",
    "import cv2 as cv\n",
    "import matplotlib.pyplot as plt\n",
    "import os"
   ]
  },
  {
   "cell_type": "code",
   "execution_count": null,
   "metadata": {},
   "outputs": [],
   "source": [
    "DataDirectory=\"DataSet/\"\n",
    "classes=[\"Correct\",\"Incorrect\"]\n",
    "for category in classes:\n",
    "    path=os.path.join(DataDirectory,category)\n",
    "    for img in os.listdir(path):\n",
    "        img_array=cv.imread(os.path.join(path,img))\n",
    "        plt.imshow(cv.cvtColor(img_array,cv.COLOR_BGR2RGB))\n",
    "        plt.show()\n",
    "        \n",
    "    "
   ]
  },
  {
   "cell_type": "code",
   "execution_count": null,
   "metadata": {},
   "outputs": [],
   "source": [
    "training_data=[]\n",
    "def create_training_data():\n",
    "    img_size=224\n",
    "    for category in classes:\n",
    "        path=os.path.join(DataDirectory,category)\n",
    "        class_num=classes.index(category)\n",
    "        for img in os.listdir(path):\n",
    "            try:\n",
    "                img_array=cv.imread(os.path.join(path,img))\n",
    "                new_array=cv.resize(img_array,(img_size,img_size))\n",
    "                training_data.append([new_array,class_num])\n",
    "            except:\n",
    "                pass\n",
    "        "
   ]
  },
  {
   "cell_type": "code",
   "execution_count": null,
   "metadata": {},
   "outputs": [],
   "source": [
    "create_training_data()"
   ]
  },
  {
   "cell_type": "code",
   "execution_count": null,
   "metadata": {},
   "outputs": [],
   "source": [
    "len(training_data)"
   ]
  },
  {
   "cell_type": "code",
   "execution_count": 2,
   "metadata": {},
   "outputs": [],
   "source": [
    "import random\n"
   ]
  },
  {
   "cell_type": "code",
   "execution_count": null,
   "metadata": {},
   "outputs": [],
   "source": [
    "random.shuffle(training_data)"
   ]
  },
  {
   "cell_type": "code",
   "execution_count": null,
   "metadata": {},
   "outputs": [],
   "source": [
    "X=[]\n",
    "Y=[]\n",
    "img_size=224\n",
    "for f,l in training_data:\n",
    "    X.append(f)\n",
    "    Y.append(l)\n",
    "X=np.array(X).reshape(-1,img_size,img_size,3)"
   ]
  },
  {
   "cell_type": "code",
   "execution_count": null,
   "metadata": {},
   "outputs": [],
   "source": [
    "plt.imshow(X[0])"
   ]
  },
  {
   "cell_type": "code",
   "execution_count": null,
   "metadata": {},
   "outputs": [],
   "source": [
    "X[0].shape"
   ]
  },
  {
   "cell_type": "code",
   "execution_count": null,
   "metadata": {},
   "outputs": [],
   "source": [
    "X=X/255\n"
   ]
  },
  {
   "cell_type": "code",
   "execution_count": null,
   "metadata": {},
   "outputs": [],
   "source": [
    "Y=np.array(Y)"
   ]
  },
  {
   "cell_type": "code",
   "execution_count": null,
   "metadata": {},
   "outputs": [],
   "source": [
    "from tensorflow import keras\n",
    "from tensorflow.keras import layers"
   ]
  },
  {
   "cell_type": "code",
   "execution_count": null,
   "metadata": {},
   "outputs": [],
   "source": [
    "model=tf.keras.applications.mobilenet.MobileNet()"
   ]
  },
  {
   "cell_type": "code",
   "execution_count": null,
   "metadata": {},
   "outputs": [],
   "source": [
    "base_input=model.layers[0].input\n",
    "base_output=model.layers[-4].output\n"
   ]
  },
  {
   "cell_type": "code",
   "execution_count": null,
   "metadata": {},
   "outputs": [],
   "source": [
    "Flat_layer=layers.Flatten()(base_output)\n",
    "final_output=layers.Dense(1)(Flat_layer)\n",
    "final_output=layers.Activation('sigmoid')(final_output)"
   ]
  },
  {
   "cell_type": "code",
   "execution_count": null,
   "metadata": {},
   "outputs": [],
   "source": [
    "new_model=keras.Model(inputs=base_input,outputs=final_output)\n"
   ]
  },
  {
   "cell_type": "code",
   "execution_count": null,
   "metadata": {},
   "outputs": [],
   "source": [
    "new_model.compile(loss=\"binary_crossentropy\",optimizer=\"adam\",metrics=[\"accuracy\"])\n"
   ]
  },
  {
   "cell_type": "code",
   "execution_count": null,
   "metadata": {},
   "outputs": [],
   "source": [
    "new_model.fit(X,Y,epochs=1,validation_split=0.1)"
   ]
  },
  {
   "cell_type": "markdown",
   "metadata": {},
   "source": [
    "# Import the model and Finalise"
   ]
  },
  {
   "cell_type": "code",
   "execution_count": 40,
   "metadata": {},
   "outputs": [],
   "source": [
    "model=tf.keras.models.load_model('model.h5')"
   ]
  },
  {
   "cell_type": "code",
   "execution_count": 29,
   "metadata": {},
   "outputs": [],
   "source": [
    "import cv2 as cv"
   ]
  },
  {
   "cell_type": "code",
   "execution_count": 30,
   "metadata": {},
   "outputs": [],
   "source": [
    "classifier=cv.CascadeClassifier('haarcascade_frontalface_default.xml')"
   ]
  },
  {
   "cell_type": "code",
   "execution_count": 67,
   "metadata": {},
   "outputs": [],
   "source": [
    "cap=cv.VideoCapture(0)"
   ]
  },
  {
   "cell_type": "code",
   "execution_count": 68,
   "metadata": {},
   "outputs": [
    {
     "name": "stdout",
     "output_type": "stream",
     "text": [
      "[[0.00520682]]\n",
      "[[0.00482544]]\n",
      "[[0.00218958]]\n",
      "[[0.00227067]]\n",
      "[[0.00040719]]\n",
      "[[0.0001106]]\n",
      "[[5.0259947e-05]]\n",
      "[[6.542873e-05]]\n",
      "[[5.0690818e-05]]\n",
      "[[0.00015113]]\n",
      "[[0.0001373]]\n",
      "[[6.744273e-05]]\n",
      "[[3.781066e-05]]\n",
      "[[2.5366557e-05]]\n",
      "[[3.2250897e-05]]\n",
      "[[0.00572845]]\n",
      "[[0.00476909]]\n",
      "[[0.00466549]]\n",
      "[[0.00482985]]\n",
      "[[3.6586585e-05]]\n",
      "[[7.523601e-05]]\n",
      "[[0.00010737]]\n",
      "[[5.9776077e-05]]\n",
      "[[0.00028375]]\n",
      "[[6.795866e-05]]\n",
      "[[5.5221288e-05]]\n",
      "[[6.9026806e-05]]\n",
      "[[7.6478245e-05]]\n",
      "[[3.7407306e-05]]\n",
      "[[3.7133654e-05]]\n",
      "[[3.62282e-05]]\n",
      "[[4.542119e-05]]\n",
      "[[5.087636e-05]]\n",
      "[[3.3735305e-05]]\n",
      "[[0.00045303]]\n",
      "[[0.00024199]]\n",
      "[[0.00218093]]\n",
      "[[0.06464761]]\n",
      "[[0.0123522]]\n",
      "[[0.00316432]]\n",
      "[[0.00313178]]\n"
     ]
    }
   ],
   "source": [
    "while 1:\n",
    "    frame=cap.read()[1]\n",
    "    fin=cv.resize(frame,(224,224))\n",
    "    fin=np.expand_dims(fin,axis=0)\n",
    "    fin=fin/255.0\n",
    "    detc=classifier.detectMultiScale(frame)\n",
    "    if(len(detc)==1):\n",
    "        x,y,l,w=detc[0]\n",
    "        if(model.predict(fin)>0.1):cv.rectangle(frame,(x,y),(x+w,y+l),(0,0,255),2)\n",
    "        else:cv.rectangle(frame,(x,y),(x+w,y+l),(0,255,0),2)\n",
    "        print(model.predict(fin))\n",
    "    cv.imshow('1',frame)\n",
    "    if(cv.waitKey(20) & 0xFF==ord('d')):\n",
    "        break\n",
    "\n",
    "cap.release()   \n",
    "cv.destroyAllWindows()"
   ]
  },
  {
   "cell_type": "code",
   "execution_count": null,
   "metadata": {},
   "outputs": [],
   "source": []
  }
 ],
 "metadata": {
  "kernelspec": {
   "display_name": "Python 3",
   "language": "python",
   "name": "python3"
  },
  "language_info": {
   "codemirror_mode": {
    "name": "ipython",
    "version": 3
   },
   "file_extension": ".py",
   "mimetype": "text/x-python",
   "name": "python",
   "nbconvert_exporter": "python",
   "pygments_lexer": "ipython3",
   "version": "3.8.5"
  }
 },
 "nbformat": 4,
 "nbformat_minor": 4
}
